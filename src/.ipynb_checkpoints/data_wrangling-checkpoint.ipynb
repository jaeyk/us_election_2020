{
 "cells": [
  {
   "cell_type": "markdown",
   "metadata": {},
   "source": [
    "# Wrangling presidential election data \n",
    "\n",
    "by Jae Yeon Kim \n",
    "\n",
    "I redid the data wrangling using Python for Python users. "
   ]
  },
  {
   "cell_type": "code",
   "execution_count": 1,
   "metadata": {},
   "outputs": [
    {
     "name": "stdout",
     "output_type": "stream",
     "text": [
      "This is the time when this notebook was compiled: 2020-11-12 08:38:01\n"
     ]
    }
   ],
   "source": [
    "import datetime \n",
    "import time    \n",
    "\n",
    "print('This is the time when this notebook was compiled:', time.strftime('%Y-%m-%d %H:%M:%S'))"
   ]
  },
  {
   "cell_type": "code",
   "execution_count": 2,
   "metadata": {},
   "outputs": [],
   "source": [
    "## Load libraries \n",
    "\n",
    "import sys \n",
    "import numpy as np \n",
    "np.set_printoptions(threshold=sys.maxsize) # Dispaly the whole array \n",
    "\n",
    "import pandas as pd \n",
    "from pyprojroot import here"
   ]
  },
  {
   "cell_type": "markdown",
   "metadata": {},
   "source": [
    "Huge thanks to [`tonmcg`](https://github.com/tonmcg) for putting this data together: https://github.com/tonmcg/US_County_Level_Election_Results_08-20"
   ]
  },
  {
   "cell_type": "code",
   "execution_count": 3,
   "metadata": {},
   "outputs": [],
   "source": [
    "election_08_16 = pd.read_csv(\"https://github.com/tonmcg/US_County_Level_Election_Results_08-20/raw/master/US_County_Level_Presidential_Results_08-16.csv\")\n",
    "election_20 = pd.read_csv(\"https://github.com/tonmcg/US_County_Level_Election_Results_08-20/raw/master/2020_US_County_Level_Presidential_Results.csv\")"
   ]
  },
  {
   "cell_type": "markdown",
   "metadata": {},
   "source": [
    "## Wrangle data "
   ]
  },
  {
   "cell_type": "markdown",
   "metadata": {},
   "source": [
    "### Find common columns "
   ]
  },
  {
   "cell_type": "markdown",
   "metadata": {},
   "source": [
    "No common columns because of the column name inconsistency. "
   ]
  },
  {
   "cell_type": "code",
   "execution_count": 4,
   "metadata": {},
   "outputs": [
    {
     "data": {
      "text/plain": [
       "Index([], dtype='object')"
      ]
     },
     "execution_count": 4,
     "metadata": {},
     "output_type": "execute_result"
    }
   ],
   "source": [
    "election_08_16.columns.intersection(election_20.columns)"
   ]
  },
  {
   "cell_type": "markdown",
   "metadata": {},
   "source": [
    "Fix this issue by renaming the column names of `election_20`."
   ]
  },
  {
   "cell_type": "code",
   "execution_count": 5,
   "metadata": {},
   "outputs": [
    {
     "data": {
      "text/plain": [
       "Index(['fips_code', 'county', 'total_2008', 'dem_2008', 'gop_2008', 'oth_2008',\n",
       "       'total_2012', 'dem_2012', 'gop_2012', 'oth_2012', 'total_2016',\n",
       "       'dem_2016', 'gop_2016', 'oth_2016'],\n",
       "      dtype='object')"
      ]
     },
     "execution_count": 5,
     "metadata": {},
     "output_type": "execute_result"
    }
   ],
   "source": [
    "# Check column names \n",
    "election_08_16.columns"
   ]
  },
  {
   "cell_type": "code",
   "execution_count": 6,
   "metadata": {},
   "outputs": [
    {
     "data": {
      "text/plain": [
       "Index(['state_name', 'county_fips', 'county_name', 'votes_gop', 'votes_dem',\n",
       "       'total_votes', 'diff', 'per_gop', 'per_dem', 'per_point_diff'],\n",
       "      dtype='object')"
      ]
     },
     "execution_count": 6,
     "metadata": {},
     "output_type": "execute_result"
    }
   ],
   "source": [
    "# Check column names \n",
    "election_20.columns"
   ]
  },
  {
   "cell_type": "code",
   "execution_count": 5,
   "metadata": {},
   "outputs": [],
   "source": [
    "# Rename column names \n",
    "election_20 = election_20.rename(columns = {'county_fips':'fips_code',\n",
    "                                            'county_name':'county'})"
   ]
  },
  {
   "cell_type": "code",
   "execution_count": 6,
   "metadata": {},
   "outputs": [
    {
     "data": {
      "text/plain": [
       "Index(['fips_code', 'county'], dtype='object')"
      ]
     },
     "execution_count": 6,
     "metadata": {},
     "output_type": "execute_result"
    }
   ],
   "source": [
    "# Check the common columns\n",
    "election_08_16.columns.intersection(election_20.columns)"
   ]
  },
  {
   "cell_type": "code",
   "execution_count": 7,
   "metadata": {},
   "outputs": [],
   "source": [
    "common_column = election_08_16.columns.intersection(election_20.columns)"
   ]
  },
  {
   "cell_type": "code",
   "execution_count": 8,
   "metadata": {},
   "outputs": [
    {
     "name": "stdout",
     "output_type": "stream",
     "text": [
      "The name of the common column is ['fips_code' 'county'].\n"
     ]
    }
   ],
   "source": [
    "print(f'The name of the common column is {common_column.values}.')"
   ]
  },
  {
   "cell_type": "markdown",
   "metadata": {},
   "source": [
    "## Join the two datasets \n",
    "\n",
    "Caveat 1: Note that we have three more counties (including a NUll value) in the `election_20` dataframe than the `election_08_16` dataframe."
   ]
  },
  {
   "cell_type": "code",
   "execution_count": 9,
   "metadata": {},
   "outputs": [
    {
     "data": {
      "text/plain": [
       "1845"
      ]
     },
     "execution_count": 9,
     "metadata": {},
     "output_type": "execute_result"
    }
   ],
   "source": [
    "election_08_16.county.nunique()"
   ]
  },
  {
   "cell_type": "code",
   "execution_count": 37,
   "metadata": {},
   "outputs": [
    {
     "data": {
      "text/plain": [
       "1847"
      ]
     },
     "execution_count": 37,
     "metadata": {},
     "output_type": "execute_result"
    }
   ],
   "source": [
    "election_20.county.nunique()"
   ]
  },
  {
   "cell_type": "markdown",
   "metadata": {},
   "source": [
    "The following is not true because electioin_20.county includes a NULL value. "
   ]
  },
  {
   "cell_type": "code",
   "execution_count": 44,
   "metadata": {},
   "outputs": [
    {
     "data": {
      "text/plain": [
       "False"
      ]
     },
     "execution_count": 44,
     "metadata": {},
     "output_type": "execute_result"
    }
   ],
   "source": [
    "len(election_20.county.unique()) == election_20.county.nunique() "
   ]
  },
  {
   "cell_type": "code",
   "execution_count": 45,
   "metadata": {},
   "outputs": [
    {
     "data": {
      "text/plain": [
       "1"
      ]
     },
     "execution_count": 45,
     "metadata": {},
     "output_type": "execute_result"
    }
   ],
   "source": [
    "len(election_20.county.unique()) - election_20.county.nunique() "
   ]
  },
  {
   "cell_type": "markdown",
   "metadata": {},
   "source": [
    "Caveat 2: Also, 64 county names in the two dataframes didn't match."
   ]
  },
  {
   "cell_type": "code",
   "execution_count": 108,
   "metadata": {},
   "outputs": [],
   "source": [
    "# Differently named counties \n",
    "list_out = [value for value in list(election_08_16.county) if value not in list(election_20.county)]"
   ]
  },
  {
   "cell_type": "code",
   "execution_count": 109,
   "metadata": {},
   "outputs": [
    {
     "data": {
      "text/plain": [
       "64"
      ]
     },
     "execution_count": 109,
     "metadata": {},
     "output_type": "execute_result"
    }
   ],
   "source": [
    "# Remove duplicates \n",
    "len(set(list_out))"
   ]
  },
  {
   "cell_type": "code",
   "execution_count": 110,
   "metadata": {},
   "outputs": [
    {
     "data": {
      "text/plain": [
       "64"
      ]
     },
     "execution_count": 110,
     "metadata": {},
     "output_type": "execute_result"
    }
   ],
   "source": [
    "# Or you can use set directly to calculte the length of the uniquely named counties \n",
    "len(set(election_08_16.county).difference(list(election_20.county)))"
   ]
  },
  {
   "cell_type": "markdown",
   "metadata": {},
   "source": [
    "- Change the column names of the `election_20` in the same style of `election_08_16` dataframe. "
   ]
  },
  {
   "cell_type": "code",
   "execution_count": 15,
   "metadata": {},
   "outputs": [],
   "source": [
    "election_20 = election_20.rename(\n",
    "    columns = {\"votes_dem\" : \"dem_2020\",\n",
    "              \"votes_gop\" : \"gop_2020\",\n",
    "              \"total_votes\" : \"total_2020\"})"
   ]
  },
  {
   "cell_type": "code",
   "execution_count": 17,
   "metadata": {},
   "outputs": [],
   "source": [
    "election_20 = election_20.drop(election_20.filter(regex = 'per_|diff'), axis = 1)"
   ]
  },
  {
   "cell_type": "markdown",
   "metadata": {},
   "source": [
    "Since we're trying to create a panel data, I join the two datasets (x1, x2) based on x1."
   ]
  },
  {
   "cell_type": "code",
   "execution_count": 16,
   "metadata": {},
   "outputs": [],
   "source": [
    "joined = pd.merge(election_08_16, election_20, how = 'left')"
   ]
  },
  {
   "cell_type": "markdown",
   "metadata": {},
   "source": [
    "\n",
    "## Select\n",
    "\n",
    "Let's focus on the 2016 and 2020 presidential election results. "
   ]
  },
  {
   "cell_type": "code",
   "execution_count": 17,
   "metadata": {},
   "outputs": [],
   "source": [
    "selected = joined.filter(regex = '2016|2020|fips_code|county|state_name')"
   ]
  },
  {
   "cell_type": "markdown",
   "metadata": {},
   "source": [
    "## Mutate \n",
    "\n",
    "Calculate party vote share in each election and add that information to the original dataframe."
   ]
  },
  {
   "cell_type": "code",
   "execution_count": 18,
   "metadata": {},
   "outputs": [],
   "source": [
    "dem_diff = round((selected.dem_2020/selected.total_2020) - (selected.dem_2016/selected.total_2016), 4)\n",
    "gop_diff = round((selected.gop_2020/selected.total_2020) - (selected.gop_2016/selected.total_2016), 4)"
   ]
  },
  {
   "cell_type": "code",
   "execution_count": 19,
   "metadata": {},
   "outputs": [],
   "source": [
    "augmented = selected.copy()"
   ]
  },
  {
   "cell_type": "code",
   "execution_count": 20,
   "metadata": {},
   "outputs": [],
   "source": [
    "augmented['dem_diff'] = dem_diff\n",
    "augmented['gop_diff'] = gop_diff"
   ]
  },
  {
   "cell_type": "code",
   "execution_count": 21,
   "metadata": {},
   "outputs": [
    {
     "data": {
      "text/html": [
       "<div>\n",
       "<style scoped>\n",
       "    .dataframe tbody tr th:only-of-type {\n",
       "        vertical-align: middle;\n",
       "    }\n",
       "\n",
       "    .dataframe tbody tr th {\n",
       "        vertical-align: top;\n",
       "    }\n",
       "\n",
       "    .dataframe thead th {\n",
       "        text-align: right;\n",
       "    }\n",
       "</style>\n",
       "<table border=\"1\" class=\"dataframe\">\n",
       "  <thead>\n",
       "    <tr style=\"text-align: right;\">\n",
       "      <th></th>\n",
       "      <th>fips_code</th>\n",
       "      <th>county</th>\n",
       "      <th>total_2016</th>\n",
       "      <th>dem_2016</th>\n",
       "      <th>gop_2016</th>\n",
       "      <th>oth_2016</th>\n",
       "      <th>state_name</th>\n",
       "      <th>gop_2020</th>\n",
       "      <th>dem_2020</th>\n",
       "      <th>total_2020</th>\n",
       "      <th>dem_diff</th>\n",
       "      <th>gop_diff</th>\n",
       "    </tr>\n",
       "  </thead>\n",
       "  <tbody>\n",
       "    <tr>\n",
       "      <th>0</th>\n",
       "      <td>26041</td>\n",
       "      <td>Delta County</td>\n",
       "      <td>18467</td>\n",
       "      <td>6431</td>\n",
       "      <td>11112</td>\n",
       "      <td>924</td>\n",
       "      <td>Michigan</td>\n",
       "      <td>13206.0</td>\n",
       "      <td>7605.0</td>\n",
       "      <td>21154.0</td>\n",
       "      <td>0.0113</td>\n",
       "      <td>0.0226</td>\n",
       "    </tr>\n",
       "    <tr>\n",
       "      <th>1</th>\n",
       "      <td>48295</td>\n",
       "      <td>Lipscomb County</td>\n",
       "      <td>1322</td>\n",
       "      <td>135</td>\n",
       "      <td>1159</td>\n",
       "      <td>28</td>\n",
       "      <td>Texas</td>\n",
       "      <td>1203.0</td>\n",
       "      <td>131.0</td>\n",
       "      <td>1351.0</td>\n",
       "      <td>-0.0052</td>\n",
       "      <td>0.0137</td>\n",
       "    </tr>\n",
       "    <tr>\n",
       "      <th>2</th>\n",
       "      <td>1127</td>\n",
       "      <td>Walker County</td>\n",
       "      <td>29243</td>\n",
       "      <td>4486</td>\n",
       "      <td>24208</td>\n",
       "      <td>549</td>\n",
       "      <td>Alabama</td>\n",
       "      <td>25947.0</td>\n",
       "      <td>4826.0</td>\n",
       "      <td>31106.0</td>\n",
       "      <td>0.0017</td>\n",
       "      <td>0.0063</td>\n",
       "    </tr>\n",
       "    <tr>\n",
       "      <th>3</th>\n",
       "      <td>48389</td>\n",
       "      <td>Reeves County</td>\n",
       "      <td>3184</td>\n",
       "      <td>1659</td>\n",
       "      <td>1417</td>\n",
       "      <td>108</td>\n",
       "      <td>Texas</td>\n",
       "      <td>2249.0</td>\n",
       "      <td>1394.0</td>\n",
       "      <td>3683.0</td>\n",
       "      <td>-0.1425</td>\n",
       "      <td>0.1656</td>\n",
       "    </tr>\n",
       "    <tr>\n",
       "      <th>4</th>\n",
       "      <td>56017</td>\n",
       "      <td>Hot Springs County</td>\n",
       "      <td>2535</td>\n",
       "      <td>400</td>\n",
       "      <td>1939</td>\n",
       "      <td>196</td>\n",
       "      <td>Wyoming</td>\n",
       "      <td>1999.0</td>\n",
       "      <td>482.0</td>\n",
       "      <td>2577.0</td>\n",
       "      <td>0.0292</td>\n",
       "      <td>0.0108</td>\n",
       "    </tr>\n",
       "  </tbody>\n",
       "</table>\n",
       "</div>"
      ],
      "text/plain": [
       "   fips_code              county  total_2016  dem_2016  gop_2016  oth_2016  \\\n",
       "0      26041        Delta County       18467      6431     11112       924   \n",
       "1      48295     Lipscomb County        1322       135      1159        28   \n",
       "2       1127       Walker County       29243      4486     24208       549   \n",
       "3      48389       Reeves County        3184      1659      1417       108   \n",
       "4      56017  Hot Springs County        2535       400      1939       196   \n",
       "\n",
       "  state_name  gop_2020  dem_2020  total_2020  dem_diff  gop_diff  \n",
       "0   Michigan   13206.0    7605.0     21154.0    0.0113    0.0226  \n",
       "1      Texas    1203.0     131.0      1351.0   -0.0052    0.0137  \n",
       "2    Alabama   25947.0    4826.0     31106.0    0.0017    0.0063  \n",
       "3      Texas    2249.0    1394.0      3683.0   -0.1425    0.1656  \n",
       "4    Wyoming    1999.0     482.0      2577.0    0.0292    0.0108  "
      ]
     },
     "execution_count": 21,
     "metadata": {},
     "output_type": "execute_result"
    }
   ],
   "source": [
    "augmented.head()"
   ]
  },
  {
   "cell_type": "code",
   "execution_count": 24,
   "metadata": {},
   "outputs": [
    {
     "data": {
      "text/plain": [
       "(3112, 12)"
      ]
     },
     "execution_count": 24,
     "metadata": {},
     "output_type": "execute_result"
    }
   ],
   "source": [
    "augmented.shape"
   ]
  },
  {
   "cell_type": "markdown",
   "metadata": {},
   "source": [
    "## Export "
   ]
  },
  {
   "cell_type": "code",
   "execution_count": 24,
   "metadata": {},
   "outputs": [
    {
     "data": {
      "text/plain": [
       "PosixPath('/home/jae/us_election_2020/outputs/wrangled_python_updated.csv')"
      ]
     },
     "execution_count": 24,
     "metadata": {},
     "output_type": "execute_result"
    }
   ],
   "source": [
    "# Check the file path \n",
    "here('outputs/wrangled_python_updated.csv')"
   ]
  },
  {
   "cell_type": "code",
   "execution_count": 25,
   "metadata": {},
   "outputs": [],
   "source": [
    "# Save the file \n",
    "# augmented.to_csv(here('outputs/wrangled.csv'))"
   ]
  }
 ],
 "metadata": {
  "kernelspec": {
   "display_name": "Python 3",
   "language": "python",
   "name": "python3"
  },
  "language_info": {
   "codemirror_mode": {
    "name": "ipython",
    "version": 3
   },
   "file_extension": ".py",
   "mimetype": "text/x-python",
   "name": "python",
   "nbconvert_exporter": "python",
   "pygments_lexer": "ipython3",
   "version": "3.7.7"
  }
 },
 "nbformat": 4,
 "nbformat_minor": 4
}
